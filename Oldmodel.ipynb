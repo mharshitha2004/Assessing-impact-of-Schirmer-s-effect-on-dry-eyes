{
 "cells": [
  {
   "cell_type": "code",
   "execution_count": 1,
   "id": "2d93c716",
   "metadata": {},
   "outputs": [],
   "source": [
    "import pandas as pd\n",
    "from sklearn.model_selection import train_test_split\n",
    "from sklearn.ensemble import RandomForestRegressor\n",
    "from sklearn.metrics import mean_squared_error, r2_score\n",
    "from sklearn.impute import SimpleImputer\n",
    "from sklearn.preprocessing import StandardScaler\n",
    "\n",
    "# Step 1: Load the dataset\n",
    "data = pd.read_csv(\"digital-eye.csv\")"
   ]
  },
  {
   "cell_type": "code",
   "execution_count": 2,
   "id": "1482b16b",
   "metadata": {},
   "outputs": [
    {
     "name": "stdout",
     "output_type": "stream",
     "text": [
      "              Name  Age  Sex  wearables  Duration  onlineplatforms  Nature  \\\n",
      "0      Syeda Afiya   22    2          1       2.0              1.0     2.0   \n",
      "1          Hemanth   24    1          1       2.0              2.0     2.0   \n",
      "2          Kranthi   23    1          5       NaN              2.0     2.0   \n",
      "3   Sk.M.A.Khadeer   23    1          1       2.0              2.0     2.0   \n",
      "4  B.Shravan kumar   27    1          3       2.0              2.0     1.0   \n",
      "\n",
      "   screenillumination  workingyears  hoursspentdailycurricular  ...  \\\n",
      "0                 2.0           1.0                        1.0  ...   \n",
      "1                 1.0           2.0                        1.0  ...   \n",
      "2                 3.0           3.0                        4.0  ...   \n",
      "3                 1.0           1.0                        1.0  ...   \n",
      "4                 1.0           1.0                        1.0  ...   \n",
      "\n",
      "   Severityofcomplaints  RVIS  Ocularsymptomsobservedlately  \\\n",
      "0                     1     1                       13569.0   \n",
      "1                     0     0                           6.0   \n",
      "2                     2     1                      135679.0   \n",
      "3                     1     1                         135.0   \n",
      "4                     0     0                           7.0   \n",
      "\n",
      "   Symptomsobservingatleasthalfofthetimes  Complaintsfrequency  \\\n",
      "0                                  1345.0                    3   \n",
      "1                                     3.0                    1   \n",
      "2                                 12345.0                    2   \n",
      "3                                    23.0                    3   \n",
      "4                                    23.0                    2   \n",
      "\n",
      "   frequencyofdryeyes  Schimers1Lefteye  Schimers1righteye  Schimers2Lefteye  \\\n",
      "0                   2                12                 13                16   \n",
      "1                   1                25                 28                30   \n",
      "2                   1                 8                  6                 9   \n",
      "3                   1                13                 14                15   \n",
      "4                   3                34                 32                35   \n",
      "\n",
      "   Schimers2righteye  \n",
      "0                 14  \n",
      "1                 32  \n",
      "2                  8  \n",
      "3                 14  \n",
      "4                 35  \n",
      "\n",
      "[5 rows x 28 columns]\n",
      "<class 'pandas.core.frame.DataFrame'>\n",
      "RangeIndex: 300 entries, 0 to 299\n",
      "Data columns (total 28 columns):\n",
      " #   Column                                  Non-Null Count  Dtype  \n",
      "---  ------                                  --------------  -----  \n",
      " 0   Name                                    300 non-null    object \n",
      " 1   Age                                     300 non-null    int64  \n",
      " 2   Sex                                     300 non-null    int64  \n",
      " 3   wearables                               300 non-null    int64  \n",
      " 4   Duration                                190 non-null    float64\n",
      " 5   onlineplatforms                         295 non-null    float64\n",
      " 6   Nature                                  281 non-null    float64\n",
      " 7   screenillumination                      298 non-null    float64\n",
      " 8   workingyears                            294 non-null    float64\n",
      " 9   hoursspentdailycurricular               295 non-null    float64\n",
      " 10  hoursspentdailynoncurricular            298 non-null    float64\n",
      " 11  Gadgetsused                             300 non-null    int64  \n",
      " 12  levelofgadjetwithrespecttoeyes          300 non-null    int64  \n",
      " 13  Distancekeptbetweeneyesandgadjet        299 non-null    float64\n",
      " 14  Avgnighttimeusageperday                 300 non-null    int64  \n",
      " 15  Blinkingduringscreenusage               300 non-null    int64  \n",
      " 16  Difficultyinfocusingafterusingscreens   300 non-null    int64  \n",
      " 17  freqquencyofcomplaints                  300 non-null    int64  \n",
      " 18  Severityofcomplaints                    300 non-null    int64  \n",
      " 19  RVIS                                    300 non-null    int64  \n",
      " 20  Ocularsymptomsobservedlately            298 non-null    float64\n",
      " 21  Symptomsobservingatleasthalfofthetimes  293 non-null    float64\n",
      " 22  Complaintsfrequency                     300 non-null    int64  \n",
      " 23  frequencyofdryeyes                      300 non-null    int64  \n",
      " 24  Schimers1Lefteye                        300 non-null    int64  \n",
      " 25  Schimers1righteye                       300 non-null    int64  \n",
      " 26  Schimers2Lefteye                        300 non-null    int64  \n",
      " 27  Schimers2righteye                       300 non-null    int64  \n",
      "dtypes: float64(10), int64(17), object(1)\n",
      "memory usage: 65.8+ KB\n",
      "None\n"
     ]
    }
   ],
   "source": [
    "# Step 2: Explore the dataset\n",
    "print(data.head())\n",
    "print(data.info())"
   ]
  },
  {
   "cell_type": "code",
   "execution_count": 3,
   "id": "885dba02",
   "metadata": {},
   "outputs": [],
   "source": [
    "# Step 3: Handle missing values\n",
    "# Replace empty cells with NaN\n",
    "data.replace('', pd.NA, inplace=True)\n",
    "import pandas as pd\n",
    "\n",
    "# Assuming 'data' is your DataFrame\n",
    "data.drop(columns=['Name'], inplace=True)"
   ]
  },
  {
   "cell_type": "code",
   "execution_count": 4,
   "id": "fae50685",
   "metadata": {},
   "outputs": [],
   "source": [
    "# Impute missing values\n",
    "imputer = SimpleImputer(strategy='median')\n",
    "data_imputed = pd.DataFrame(imputer.fit_transform(data), columns=data.columns)"
   ]
  },
  {
   "cell_type": "code",
   "execution_count": 5,
   "id": "be099971",
   "metadata": {},
   "outputs": [],
   "source": [
    "# Step 4: Encode categorical variables (if any)\n",
    "# No categorical variables in this dataset\n",
    "\n",
    "# Step 5: Split the dataset into features and target variables\n",
    "X = data_imputed.iloc[:, :-4]  # Features\n",
    "y = data_imputed.iloc[:, -4:]  # Target variables\n"
   ]
  },
  {
   "cell_type": "code",
   "execution_count": 6,
   "id": "c31bcdc0",
   "metadata": {},
   "outputs": [],
   "source": [
    "# Step 6: Split the data into training and testing sets\n",
    "X_train, X_test, y_train, y_test = train_test_split(X, y, test_size=0.2, random_state=42)\n",
    "\n"
   ]
  },
  {
   "cell_type": "code",
   "execution_count": 7,
   "id": "16329e01",
   "metadata": {},
   "outputs": [
    {
     "data": {
      "text/html": [
       "<style>#sk-container-id-1 {color: black;}#sk-container-id-1 pre{padding: 0;}#sk-container-id-1 div.sk-toggleable {background-color: white;}#sk-container-id-1 label.sk-toggleable__label {cursor: pointer;display: block;width: 100%;margin-bottom: 0;padding: 0.3em;box-sizing: border-box;text-align: center;}#sk-container-id-1 label.sk-toggleable__label-arrow:before {content: \"▸\";float: left;margin-right: 0.25em;color: #696969;}#sk-container-id-1 label.sk-toggleable__label-arrow:hover:before {color: black;}#sk-container-id-1 div.sk-estimator:hover label.sk-toggleable__label-arrow:before {color: black;}#sk-container-id-1 div.sk-toggleable__content {max-height: 0;max-width: 0;overflow: hidden;text-align: left;background-color: #f0f8ff;}#sk-container-id-1 div.sk-toggleable__content pre {margin: 0.2em;color: black;border-radius: 0.25em;background-color: #f0f8ff;}#sk-container-id-1 input.sk-toggleable__control:checked~div.sk-toggleable__content {max-height: 200px;max-width: 100%;overflow: auto;}#sk-container-id-1 input.sk-toggleable__control:checked~label.sk-toggleable__label-arrow:before {content: \"▾\";}#sk-container-id-1 div.sk-estimator input.sk-toggleable__control:checked~label.sk-toggleable__label {background-color: #d4ebff;}#sk-container-id-1 div.sk-label input.sk-toggleable__control:checked~label.sk-toggleable__label {background-color: #d4ebff;}#sk-container-id-1 input.sk-hidden--visually {border: 0;clip: rect(1px 1px 1px 1px);clip: rect(1px, 1px, 1px, 1px);height: 1px;margin: -1px;overflow: hidden;padding: 0;position: absolute;width: 1px;}#sk-container-id-1 div.sk-estimator {font-family: monospace;background-color: #f0f8ff;border: 1px dotted black;border-radius: 0.25em;box-sizing: border-box;margin-bottom: 0.5em;}#sk-container-id-1 div.sk-estimator:hover {background-color: #d4ebff;}#sk-container-id-1 div.sk-parallel-item::after {content: \"\";width: 100%;border-bottom: 1px solid gray;flex-grow: 1;}#sk-container-id-1 div.sk-label:hover label.sk-toggleable__label {background-color: #d4ebff;}#sk-container-id-1 div.sk-serial::before {content: \"\";position: absolute;border-left: 1px solid gray;box-sizing: border-box;top: 0;bottom: 0;left: 50%;z-index: 0;}#sk-container-id-1 div.sk-serial {display: flex;flex-direction: column;align-items: center;background-color: white;padding-right: 0.2em;padding-left: 0.2em;position: relative;}#sk-container-id-1 div.sk-item {position: relative;z-index: 1;}#sk-container-id-1 div.sk-parallel {display: flex;align-items: stretch;justify-content: center;background-color: white;position: relative;}#sk-container-id-1 div.sk-item::before, #sk-container-id-1 div.sk-parallel-item::before {content: \"\";position: absolute;border-left: 1px solid gray;box-sizing: border-box;top: 0;bottom: 0;left: 50%;z-index: -1;}#sk-container-id-1 div.sk-parallel-item {display: flex;flex-direction: column;z-index: 1;position: relative;background-color: white;}#sk-container-id-1 div.sk-parallel-item:first-child::after {align-self: flex-end;width: 50%;}#sk-container-id-1 div.sk-parallel-item:last-child::after {align-self: flex-start;width: 50%;}#sk-container-id-1 div.sk-parallel-item:only-child::after {width: 0;}#sk-container-id-1 div.sk-dashed-wrapped {border: 1px dashed gray;margin: 0 0.4em 0.5em 0.4em;box-sizing: border-box;padding-bottom: 0.4em;background-color: white;}#sk-container-id-1 div.sk-label label {font-family: monospace;font-weight: bold;display: inline-block;line-height: 1.2em;}#sk-container-id-1 div.sk-label-container {text-align: center;}#sk-container-id-1 div.sk-container {/* jupyter's `normalize.less` sets `[hidden] { display: none; }` but bootstrap.min.css set `[hidden] { display: none !important; }` so we also need the `!important` here to be able to override the default hidden behavior on the sphinx rendered scikit-learn.org. See: https://github.com/scikit-learn/scikit-learn/issues/21755 */display: inline-block !important;position: relative;}#sk-container-id-1 div.sk-text-repr-fallback {display: none;}</style><div id=\"sk-container-id-1\" class=\"sk-top-container\"><div class=\"sk-text-repr-fallback\"><pre>RandomForestRegressor(random_state=42)</pre><b>In a Jupyter environment, please rerun this cell to show the HTML representation or trust the notebook. <br />On GitHub, the HTML representation is unable to render, please try loading this page with nbviewer.org.</b></div><div class=\"sk-container\" hidden><div class=\"sk-item\"><div class=\"sk-estimator sk-toggleable\"><input class=\"sk-toggleable__control sk-hidden--visually\" id=\"sk-estimator-id-1\" type=\"checkbox\" checked><label for=\"sk-estimator-id-1\" class=\"sk-toggleable__label sk-toggleable__label-arrow\">RandomForestRegressor</label><div class=\"sk-toggleable__content\"><pre>RandomForestRegressor(random_state=42)</pre></div></div></div></div></div>"
      ],
      "text/plain": [
       "RandomForestRegressor(random_state=42)"
      ]
     },
     "execution_count": 7,
     "metadata": {},
     "output_type": "execute_result"
    }
   ],
   "source": [
    "# Step 7: Train a predictive model\n",
    "model = RandomForestRegressor(n_estimators=100, random_state=42)\n",
    "model.fit(X_train, y_train)\n"
   ]
  },
  {
   "cell_type": "code",
   "execution_count": 8,
   "id": "5dc8ae29",
   "metadata": {},
   "outputs": [
    {
     "name": "stdout",
     "output_type": "stream",
     "text": [
      "Mean Squared Error: 37.009832172222225\n",
      "R-squared Score: 0.3150224290604446\n"
     ]
    }
   ],
   "source": [
    "# Step 8: Evaluate the model's performance\n",
    "y_pred = model.predict(X_test)\n",
    "mse = mean_squared_error(y_test, y_pred)\n",
    "r2 = r2_score(y_test, y_pred)\n",
    "print(\"Mean Squared Error:\", mse)\n",
    "print(\"R-squared Score:\", r2)"
   ]
  },
  {
   "cell_type": "code",
   "execution_count": 9,
   "id": "7de404c1",
   "metadata": {},
   "outputs": [],
   "source": [
    "# Step 9: Make predictions on new data\n",
    "# Assuming you have a new test dataset called X_new\n",
    "# Replace X_new with your actual test dataset\n",
    "X_new = pd.DataFrame({\n",
    "   'Age': [24],\n",
    "    'Sex': [1],\n",
    "    'wearables': [1],\n",
    "    'Duration': [2],  # Updated value\n",
    "    'onlineplatforms': [2],\n",
    "    'Nature': [2],\n",
    "    'screenillumination': [1],  # Updated value\n",
    "    'workingyears': [2],\n",
    "    'hoursspentdailycurricular': [1],  # Updated value\n",
    "    'hoursspentdailynoncurricular': [1],\n",
    "    'Gadgetsused': [1],\n",
    "    'levelofgadjetwithrespecttoeyes': [2],\n",
    "    'Distancekeptbetweeneyesandgadjet': [2],\n",
    "    'Avgnighttimeusageperday': [1],\n",
    "    'Blinkingduringscreenusage': [2],  # Updated value\n",
    "    'Difficultyinfocusingafterusingscreens': [1],  # Updated value\n",
    "    'freqquencyofcomplaints': [0],\n",
    "    'Severityofcomplaints': [0],\n",
    "    'RVIS': [0],\n",
    "    'Ocularsymptomsobservedlately': [6],\n",
    "    'Symptomsobservingatleasthalfofthetimes': [3],\n",
    "    'Complaintsfrequency': [1],\n",
    "    'frequencyofdryeyes': [1]\n",
    "})\n"
   ]
  },
  {
   "cell_type": "code",
   "execution_count": 10,
   "id": "448b8591",
   "metadata": {},
   "outputs": [],
   "source": [
    "# Make predictions\n",
    "y_new_pred = model.predict(X_new)"
   ]
  },
  {
   "cell_type": "code",
   "execution_count": 11,
   "id": "04703e5b",
   "metadata": {},
   "outputs": [
    {
     "name": "stdout",
     "output_type": "stream",
     "text": [
      "Predicted Schirmer's test results for the left and right eyes:\n",
      "Schirmer1 left eye: 26.77\n",
      "Schirmer1 right eye: 28.72\n",
      "Schirmer2 left eye: 30.67\n",
      "Schirmer2 right eye: 32.0\n"
     ]
    }
   ],
   "source": [
    "\n",
    "# Print the predicted values\n",
    "print(\"Predicted Schirmer's test results for the left and right eyes:\")\n",
    "print(\"Schirmer1 left eye:\", y_new_pred[0][0])\n",
    "print(\"Schirmer1 right eye:\", y_new_pred[0][1])\n",
    "print(\"Schirmer2 left eye:\", y_new_pred[0][2])\n",
    "print(\"Schirmer2 right eye:\", y_new_pred[0][3])"
   ]
  },
  {
   "cell_type": "code",
   "execution_count": 12,
   "id": "87e2d069",
   "metadata": {},
   "outputs": [],
   "source": [
    "import pickle\n",
    "filename = 'schirmers-test-results-model.pkl'\n",
    "pickle.dump(model, open(filename, 'wb'))"
   ]
  },
  {
   "cell_type": "code",
   "execution_count": null,
   "id": "83368ea7",
   "metadata": {},
   "outputs": [],
   "source": []
  }
 ],
 "metadata": {
  "kernelspec": {
   "display_name": "Python 3 (ipykernel)",
   "language": "python",
   "name": "python3"
  },
  "language_info": {
   "codemirror_mode": {
    "name": "ipython",
    "version": 3
   },
   "file_extension": ".py",
   "mimetype": "text/x-python",
   "name": "python",
   "nbconvert_exporter": "python",
   "pygments_lexer": "ipython3",
   "version": "3.11.5"
  }
 },
 "nbformat": 4,
 "nbformat_minor": 5
}
