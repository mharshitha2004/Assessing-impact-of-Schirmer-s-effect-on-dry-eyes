{
 "cells": [
  {
   "cell_type": "code",
   "execution_count": 1,
   "id": "612d9666",
   "metadata": {},
   "outputs": [],
   "source": [
    "import pandas as pd\n",
    "import numpy as np\n",
    "from sklearn.impute import SimpleImputer\n",
    "from sklearn.preprocessing import StandardScaler\n",
    "from sklearn.decomposition import PCA\n",
    "from sklearn.model_selection import train_test_split\n",
    "from sklearn.metrics import accuracy_score, precision_score, recall_score, f1_score\n",
    "from sklearn.ensemble import RandomForestClassifier, GradientBoostingClassifier\n",
    "from sklearn.tree import DecisionTreeClassifier\n",
    "from sklearn.svm import SVC\n",
    "from sklearn.pipeline import Pipeline\n",
    "from sklearn.compose import ColumnTransformer\n",
    "from sklearn.preprocessing import OneHotEncoder\n",
    "from sklearn.exceptions import ConvergenceWarning\n",
    "from imblearn.over_sampling import RandomOverSampler\n",
    "from imblearn.under_sampling import RandomUnderSampler\n",
    "import joblib\n",
    "import warnings"
   ]
  },
  {
   "cell_type": "code",
   "execution_count": 2,
   "id": "80fa3260",
   "metadata": {},
   "outputs": [],
   "source": [
    "df = pd.read_csv('DigitalEye.csv')"
   ]
  },
  {
   "cell_type": "code",
   "execution_count": 3,
   "id": "8519fdc1",
   "metadata": {},
   "outputs": [],
   "source": [
    "pd.options.display.max_columns=None "
   ]
  },
  {
   "cell_type": "code",
   "execution_count": 4,
   "id": "7dba8365",
   "metadata": {},
   "outputs": [
    {
     "data": {
      "text/plain": [
       "Name                                        0\n",
       "Age                                         0\n",
       "Sex                                         0\n",
       "wearables                                   0\n",
       "Duration                                  110\n",
       "onlineplatforms                             5\n",
       "Nature                                     19\n",
       "screenillumination                          2\n",
       "workingyears                                6\n",
       "hoursspentdailycurricular                   5\n",
       "hoursspentdailynoncurricular                2\n",
       "Gadgetsused                                 0\n",
       "levelofgadjetwithrespecttoeyes              0\n",
       "Distancekeptbetweeneyesandgadjet            1\n",
       "Avgnighttimeusageperday                     0\n",
       "Blinkingduringscreenusage                   0\n",
       "Difficultyinfocusingafterusingscreens       0\n",
       "freqquencyofcomplaints                      0\n",
       "Severityofcomplaints                        0\n",
       "RVIS                                        0\n",
       "Ocularsymptomsobservedlately                2\n",
       "Symptomsobservingatleasthalfofthetimes      7\n",
       "Complaintsfrequency                         0\n",
       "frequencyofdryeyes                          0\n",
       "Schimers1Lefteye                            0\n",
       "Schimers1righteye                           0\n",
       "Schimers2Lefteye                            0\n",
       "Schimers2righteye                           0\n",
       "dtype: int64"
      ]
     },
     "execution_count": 4,
     "metadata": {},
     "output_type": "execute_result"
    }
   ],
   "source": [
    "#The sum of missing values for each column in the DataFrame\n",
    "df.isnull().sum()"
   ]
  },
  {
   "cell_type": "code",
   "execution_count": 5,
   "id": "8036155f",
   "metadata": {},
   "outputs": [],
   "source": [
    "# Handle missing values\n",
    "numerical_features = df.select_dtypes(include=['float64']).columns\n",
    "imputer = SimpleImputer(strategy='median')\n",
    "df[numerical_features] = imputer.fit_transform(df[numerical_features])\n",
    "\n",
    "categorical_feature = ['onlineplatforms']\n",
    "imputer = SimpleImputer(strategy='most_frequent')\n",
    "df[categorical_feature] = imputer.fit_transform(df[categorical_feature])"
   ]
  },
  {
   "cell_type": "code",
   "execution_count": 6,
   "id": "bff7ffe6",
   "metadata": {},
   "outputs": [],
   "source": [
    "import numpy as np\n",
    "from scipy.stats.mstats import winsorize\n",
    "# Apply winsorization to variables with outliers\n",
    "variables_to_winsorize = ['Duration', 'onlineplatforms', 'Nature', 'workingyears', \n",
    "                          'hoursspentdailycurricular', 'Gadgetsused', 'frequencyofdryeyes', \n",
    "                          'Schimers2righteye']\n",
    "for variable in variables_to_winsorize:\n",
    "    df[variable] = winsorize(df[variable], limits=[0.05, 0.05])\n",
    "# Apply log transformation to variables with skewed distributions\n",
    "variables_to_log_transform = ['hoursspentdailycurricular', 'Nature']\n",
    "for variable in variables_to_log_transform:\n",
    "    df[variable] = np.log1p(df[variable])  "
   ]
  },
  {
   "cell_type": "code",
   "execution_count": 7,
   "id": "a23ed1de",
   "metadata": {},
   "outputs": [],
   "source": [
    "df=pd.get_dummies(df, columns=['Name'])"
   ]
  },
  {
   "cell_type": "code",
   "execution_count": 8,
   "id": "19a6e56f",
   "metadata": {},
   "outputs": [],
   "source": [
    "df['Interaction_term_1'] = df['freqquencyofcomplaints'] * df['frequencyofdryeyes']"
   ]
  },
  {
   "cell_type": "code",
   "execution_count": 9,
   "id": "5d4da652",
   "metadata": {},
   "outputs": [],
   "source": [
    "bins = [0, 30, 60, float('inf')]\n",
    "labels = ['Young', 'Adult', 'Senior']\n",
    "df['Age_Category'] = pd.cut(df['Age'], bins=bins, labels=labels)"
   ]
  },
  {
   "cell_type": "code",
   "execution_count": 10,
   "id": "80b7033c",
   "metadata": {},
   "outputs": [],
   "source": [
    "# Normalizing or standardizing variables\n",
    "scaler = StandardScaler()\n",
    "scaled_features = scaler.fit_transform(df[['screenillumination', 'Avgnighttimeusageperday']])\n",
    "df[['screenillumination', 'c']] = scaled_features"
   ]
  },
  {
   "cell_type": "code",
   "execution_count": 11,
   "id": "0679232c",
   "metadata": {},
   "outputs": [],
   "source": [
    "df = pd.get_dummies(df, columns=['Sex', 'Age_Category'])\n",
    "# Dimensionality Reduction\n",
    "# Using PCA to reduce dimensionality\n",
    "pca = PCA(n_components=2)\n",
    "principal_components = pca.fit_transform(df[['screenillumination', 'screenillumination']])\n",
    "df['PCA_Component_1'] = principal_components[:, 0]\n",
    "df['PCA_Component_2'] = principal_components[:, 1]"
   ]
  },
  {
   "cell_type": "code",
   "execution_count": 12,
   "id": "2d0a58d4",
   "metadata": {},
   "outputs": [],
   "source": [
    "# Define target variables\n",
    "target_variables = ['Schimers1Lefteye', 'Schimers1righteye', 'Schimers2Lefteye', 'Schimers2righteye']\n",
    "# Define X and y\n",
    "X = df.drop(columns=target_variables)\n",
    "y = df[target_variables]"
   ]
  },
  {
   "cell_type": "code",
   "execution_count": 13,
   "id": "60b1e70e",
   "metadata": {},
   "outputs": [],
   "source": [
    "# Resampling and train-test split\n",
    "X_resampled = {}\n",
    "y_resampled = {}\n",
    "X_train_dict = {}\n",
    "X_test_dict = {}\n",
    "y_train_dict = {}\n",
    "y_test_dict = {}"
   ]
  },
  {
   "cell_type": "code",
   "execution_count": 14,
   "id": "2a1dd9cb",
   "metadata": {},
   "outputs": [],
   "source": [
    "undersampler = RandomUnderSampler(random_state=42)\n",
    "oversampler = RandomOverSampler(random_state=42)\n",
    "for target_var in target_variables:\n",
    "    y_target = y[target_var]\n",
    "    X_under, y_under = undersampler.fit_resample(X, y_target)\n",
    "    X_over, y_over = oversampler.fit_resample(X, y_target)\n",
    "    X_resampled[target_var + '_undersampled'] = X_under\n",
    "    y_resampled[target_var + '_undersampled'] = y_under\n",
    "    X_resampled[target_var + '_oversampled'] = X_over\n",
    "    y_resampled[target_var + '_oversampled'] = y_over\n",
    "    X_train, X_test, y_train, y_test = train_test_split(X_resampled[target_var + '_oversampled'], \n",
    "                                                        y_resampled[target_var + '_oversampled'], \n",
    "                                                        test_size=0.2, random_state=42)\n",
    "    X_train_dict[target_var] = X_train\n",
    "    X_test_dict[target_var] = X_test\n",
    "    y_train_dict[target_var] = y_train\n",
    "    y_test_dict[target_var] = y_test"
   ]
  },
  {
   "cell_type": "code",
   "execution_count": 15,
   "id": "f9faa694",
   "metadata": {},
   "outputs": [],
   "source": [
    "def evaluate_model(model, X_train, y_train, X_test, y_test):\n",
    "    model.fit(X_train, y_train)\n",
    "    y_pred = model.predict(X_test)\n",
    "    accuracy = accuracy_score(y_test, y_pred)\n",
    "    precision = precision_score(y_test, y_pred, average='weighted', zero_division=0)\n",
    "    recall = recall_score(y_test, y_pred, average='weighted')\n",
    "    f1 = f1_score(y_test, y_pred, average='weighted')\n",
    "    print(\"Accuracy:\", accuracy)\n",
    "    print(\"Precision:\", precision)\n",
    "    print(\"Recall:\", recall)\n",
    "    print(\"F1-Score:\", f1)"
   ]
  },
  {
   "cell_type": "code",
   "execution_count": 16,
   "id": "237b0640",
   "metadata": {},
   "outputs": [
    {
     "name": "stdout",
     "output_type": "stream",
     "text": [
      "Evaluating models for Schimers1Lefteye:\n",
      "\n",
      "Logistic Regression:\n",
      "Accuracy: 0.7083333333333334\n",
      "Precision: 0.7610863095238094\n",
      "Recall: 0.7083333333333334\n",
      "F1-Score: 0.6789993185826518\n",
      "==================================================\n",
      "\n",
      "Random Forest:\n",
      "Accuracy: 0.7152777777777778\n",
      "Precision: 0.7055169753086421\n",
      "Recall: 0.7152777777777778\n",
      "F1-Score: 0.6916595171803505\n",
      "==================================================\n",
      "\n",
      "Gradient Boosting:\n",
      "Accuracy: 0.7083333333333334\n",
      "Precision: 0.8774154589371981\n",
      "Recall: 0.7083333333333334\n",
      "F1-Score: 0.7357673460798462\n",
      "==================================================\n",
      "\n",
      "Decision Tree:\n",
      "Accuracy: 0.7152777777777778\n",
      "Precision: 0.7398671737213404\n",
      "Recall: 0.7152777777777778\n",
      "F1-Score: 0.7045774593746086\n",
      "==================================================\n",
      "\n",
      "Support Vector Classifier:\n",
      "Accuracy: 0.6875\n",
      "Precision: 0.8172022807439475\n",
      "Recall: 0.6875\n",
      "F1-Score: 0.693651410318077\n",
      "==================================================\n",
      "Evaluating models for Schimers1righteye:\n",
      "\n",
      "Logistic Regression:\n",
      "Accuracy: 0.875\n",
      "Precision: 0.8886073747680889\n",
      "Recall: 0.875\n",
      "F1-Score: 0.8693900881811015\n",
      "==================================================\n",
      "\n",
      "Random Forest:\n",
      "Accuracy: 0.8839285714285714\n",
      "Precision: 0.907374929138322\n",
      "Recall: 0.8839285714285714\n",
      "F1-Score: 0.8869151373283948\n",
      "==================================================\n",
      "\n",
      "Gradient Boosting:\n",
      "Accuracy: 0.9017857142857143\n",
      "Precision: 0.9789540816326531\n",
      "Recall: 0.9017857142857143\n",
      "F1-Score: 0.9248617110321001\n",
      "==================================================\n",
      "\n",
      "Decision Tree:\n",
      "Accuracy: 0.8883928571428571\n",
      "Precision: 0.8934143733250876\n",
      "Recall: 0.8883928571428571\n",
      "F1-Score: 0.8840295564919626\n",
      "==================================================\n",
      "\n",
      "Support Vector Classifier:\n",
      "Accuracy: 0.8616071428571429\n",
      "Precision: 0.9193096935743993\n",
      "Recall: 0.8616071428571429\n",
      "F1-Score: 0.8700118873306898\n",
      "==================================================\n",
      "Evaluating models for Schimers2Lefteye:\n",
      "\n",
      "Logistic Regression:\n",
      "Accuracy: 0.8407643312101911\n",
      "Precision: 0.8332271762208068\n",
      "Recall: 0.8407643312101911\n",
      "F1-Score: 0.8330555104154521\n",
      "==================================================\n",
      "\n",
      "Random Forest:\n",
      "Accuracy: 0.8471337579617835\n",
      "Precision: 0.8179456071175817\n",
      "Recall: 0.8471337579617835\n",
      "F1-Score: 0.8289643883030919\n",
      "==================================================\n",
      "\n",
      "Gradient Boosting:\n",
      "Accuracy: 0.8471337579617835\n",
      "Precision: 0.8889899909008189\n",
      "Recall: 0.8471337579617835\n",
      "F1-Score: 0.8483773127085229\n",
      "==================================================\n",
      "\n",
      "Decision Tree:\n",
      "Accuracy: 0.8789808917197452\n",
      "Precision: 0.8645966029723992\n",
      "Recall: 0.8789808917197452\n",
      "F1-Score: 0.8655041962741475\n",
      "==================================================\n",
      "\n",
      "Support Vector Classifier:\n",
      "Accuracy: 0.8152866242038217\n",
      "Precision: 0.836378525932666\n",
      "Recall: 0.8152866242038217\n",
      "F1-Score: 0.7988274602005282\n",
      "==================================================\n",
      "Evaluating models for Schimers2righteye:\n",
      "\n",
      "Logistic Regression:\n",
      "Accuracy: 0.75\n",
      "Precision: 0.7317965367965368\n",
      "Recall: 0.75\n",
      "F1-Score: 0.7267589657627251\n",
      "==================================================\n",
      "\n",
      "Random Forest:\n",
      "Accuracy: 0.7785714285714286\n",
      "Precision: 0.811295351473923\n",
      "Recall: 0.7785714285714286\n",
      "F1-Score: 0.7698025247394995\n",
      "==================================================\n",
      "\n",
      "Gradient Boosting:\n",
      "Accuracy: 0.7928571428571428\n",
      "Precision: 0.9300358604980453\n",
      "Recall: 0.7928571428571428\n",
      "F1-Score: 0.8194145606960732\n",
      "==================================================\n",
      "\n",
      "Decision Tree:\n",
      "Accuracy: 0.7785714285714286\n",
      "Precision: 0.8016919191919192\n",
      "Recall: 0.7785714285714286\n",
      "F1-Score: 0.7732787655609416\n",
      "==================================================\n",
      "\n",
      "Support Vector Classifier:\n",
      "Accuracy: 0.7285714285714285\n",
      "Precision: 0.8479248366013071\n",
      "Recall: 0.7285714285714285\n",
      "F1-Score: 0.7139487496630353\n",
      "==================================================\n"
     ]
    }
   ],
   "source": [
    "# Model training and evaluation for all classification models\n",
    "from sklearn.linear_model import LogisticRegression\n",
    "from sklearn.ensemble import RandomForestClassifier, GradientBoostingClassifier\n",
    "from sklearn.tree import DecisionTreeClassifier\n",
    "from sklearn.svm import SVC\n",
    "\n",
    "models = {\n",
    "    \"Logistic Regression\": LogisticRegression(max_iter=1000),\n",
    "    \"Random Forest\": RandomForestClassifier(),\n",
    "    \"Gradient Boosting\": GradientBoostingClassifier(n_estimators=100, learning_rate=0.1, max_depth=3, random_state=42),\n",
    "    \"Decision Tree\": DecisionTreeClassifier(),\n",
    "    \"Support Vector Classifier\": SVC()\n",
    "}\n",
    "\n",
    "for target_var in target_variables:\n",
    "    print(f\"Evaluating models for {target_var}:\")\n",
    "    X_train_scaled = scaler.fit_transform(X_train_dict[target_var])\n",
    "    X_test_scaled = scaler.transform(X_test_dict[target_var])\n",
    "    \n",
    "    for model_name, model in models.items():\n",
    "        print(f\"\\n{model_name}:\")\n",
    "        evaluate_model(model, X_train_scaled, y_train_dict[target_var], X_test_scaled, y_test_dict[target_var])\n",
    "        print(\"=\"*50)\n"
   ]
  },
  {
   "cell_type": "code",
   "execution_count": 17,
   "id": "4d2626d7",
   "metadata": {},
   "outputs": [],
   "source": [
    "# Define the Gradient Boosting Classifier with the best hyperparameters\n",
    "best_gb_classifier = GradientBoostingClassifier(n_estimators=100, learning_rate=0.1, max_depth=3, random_state=42)"
   ]
  },
  {
   "cell_type": "code",
   "execution_count": 18,
   "id": "322464f0",
   "metadata": {},
   "outputs": [
    {
     "data": {
      "text/html": [
       "<style>#sk-container-id-1 {color: black;}#sk-container-id-1 pre{padding: 0;}#sk-container-id-1 div.sk-toggleable {background-color: white;}#sk-container-id-1 label.sk-toggleable__label {cursor: pointer;display: block;width: 100%;margin-bottom: 0;padding: 0.3em;box-sizing: border-box;text-align: center;}#sk-container-id-1 label.sk-toggleable__label-arrow:before {content: \"▸\";float: left;margin-right: 0.25em;color: #696969;}#sk-container-id-1 label.sk-toggleable__label-arrow:hover:before {color: black;}#sk-container-id-1 div.sk-estimator:hover label.sk-toggleable__label-arrow:before {color: black;}#sk-container-id-1 div.sk-toggleable__content {max-height: 0;max-width: 0;overflow: hidden;text-align: left;background-color: #f0f8ff;}#sk-container-id-1 div.sk-toggleable__content pre {margin: 0.2em;color: black;border-radius: 0.25em;background-color: #f0f8ff;}#sk-container-id-1 input.sk-toggleable__control:checked~div.sk-toggleable__content {max-height: 200px;max-width: 100%;overflow: auto;}#sk-container-id-1 input.sk-toggleable__control:checked~label.sk-toggleable__label-arrow:before {content: \"▾\";}#sk-container-id-1 div.sk-estimator input.sk-toggleable__control:checked~label.sk-toggleable__label {background-color: #d4ebff;}#sk-container-id-1 div.sk-label input.sk-toggleable__control:checked~label.sk-toggleable__label {background-color: #d4ebff;}#sk-container-id-1 input.sk-hidden--visually {border: 0;clip: rect(1px 1px 1px 1px);clip: rect(1px, 1px, 1px, 1px);height: 1px;margin: -1px;overflow: hidden;padding: 0;position: absolute;width: 1px;}#sk-container-id-1 div.sk-estimator {font-family: monospace;background-color: #f0f8ff;border: 1px dotted black;border-radius: 0.25em;box-sizing: border-box;margin-bottom: 0.5em;}#sk-container-id-1 div.sk-estimator:hover {background-color: #d4ebff;}#sk-container-id-1 div.sk-parallel-item::after {content: \"\";width: 100%;border-bottom: 1px solid gray;flex-grow: 1;}#sk-container-id-1 div.sk-label:hover label.sk-toggleable__label {background-color: #d4ebff;}#sk-container-id-1 div.sk-serial::before {content: \"\";position: absolute;border-left: 1px solid gray;box-sizing: border-box;top: 0;bottom: 0;left: 50%;z-index: 0;}#sk-container-id-1 div.sk-serial {display: flex;flex-direction: column;align-items: center;background-color: white;padding-right: 0.2em;padding-left: 0.2em;position: relative;}#sk-container-id-1 div.sk-item {position: relative;z-index: 1;}#sk-container-id-1 div.sk-parallel {display: flex;align-items: stretch;justify-content: center;background-color: white;position: relative;}#sk-container-id-1 div.sk-item::before, #sk-container-id-1 div.sk-parallel-item::before {content: \"\";position: absolute;border-left: 1px solid gray;box-sizing: border-box;top: 0;bottom: 0;left: 50%;z-index: -1;}#sk-container-id-1 div.sk-parallel-item {display: flex;flex-direction: column;z-index: 1;position: relative;background-color: white;}#sk-container-id-1 div.sk-parallel-item:first-child::after {align-self: flex-end;width: 50%;}#sk-container-id-1 div.sk-parallel-item:last-child::after {align-self: flex-start;width: 50%;}#sk-container-id-1 div.sk-parallel-item:only-child::after {width: 0;}#sk-container-id-1 div.sk-dashed-wrapped {border: 1px dashed gray;margin: 0 0.4em 0.5em 0.4em;box-sizing: border-box;padding-bottom: 0.4em;background-color: white;}#sk-container-id-1 div.sk-label label {font-family: monospace;font-weight: bold;display: inline-block;line-height: 1.2em;}#sk-container-id-1 div.sk-label-container {text-align: center;}#sk-container-id-1 div.sk-container {/* jupyter's `normalize.less` sets `[hidden] { display: none; }` but bootstrap.min.css set `[hidden] { display: none !important; }` so we also need the `!important` here to be able to override the default hidden behavior on the sphinx rendered scikit-learn.org. See: https://github.com/scikit-learn/scikit-learn/issues/21755 */display: inline-block !important;position: relative;}#sk-container-id-1 div.sk-text-repr-fallback {display: none;}</style><div id=\"sk-container-id-1\" class=\"sk-top-container\"><div class=\"sk-text-repr-fallback\"><pre>GradientBoostingClassifier(random_state=42)</pre><b>In a Jupyter environment, please rerun this cell to show the HTML representation or trust the notebook. <br />On GitHub, the HTML representation is unable to render, please try loading this page with nbviewer.org.</b></div><div class=\"sk-container\" hidden><div class=\"sk-item\"><div class=\"sk-estimator sk-toggleable\"><input class=\"sk-toggleable__control sk-hidden--visually\" id=\"sk-estimator-id-1\" type=\"checkbox\" checked><label for=\"sk-estimator-id-1\" class=\"sk-toggleable__label sk-toggleable__label-arrow\">GradientBoostingClassifier</label><div class=\"sk-toggleable__content\"><pre>GradientBoostingClassifier(random_state=42)</pre></div></div></div></div></div>"
      ],
      "text/plain": [
       "GradientBoostingClassifier(random_state=42)"
      ]
     },
     "execution_count": 18,
     "metadata": {},
     "output_type": "execute_result"
    }
   ],
   "source": [
    "# Fit the model on the training data\n",
    "best_gb_classifier.fit(X_train_scaled, y_train)"
   ]
  },
  {
   "cell_type": "code",
   "execution_count": 19,
   "id": "3841d054",
   "metadata": {},
   "outputs": [
    {
     "name": "stdout",
     "output_type": "stream",
     "text": [
      "Best Gradient Boosting Classifier model saved successfully.\n"
     ]
    }
   ],
   "source": [
    "# Save the model\n",
    "joblib.dump(best_gb_classifier, 'best_gradient_boosting_model.pkl')\n",
    "print(\"Best Gradient Boosting Classifier model saved successfully.\")"
   ]
  },
  {
   "cell_type": "code",
   "execution_count": 20,
   "id": "7cb6ba24",
   "metadata": {},
   "outputs": [],
   "source": [
    "# Load the saved Gradient Boosting model\n",
    "saved_gb_classifier = joblib.load('best_gradient_boosting_model.pkl')"
   ]
  }
 ],
 "metadata": {
  "kernelspec": {
   "display_name": "Python 3 (ipykernel)",
   "language": "python",
   "name": "python3"
  },
  "language_info": {
   "codemirror_mode": {
    "name": "ipython",
    "version": 3
   },
   "file_extension": ".py",
   "mimetype": "text/x-python",
   "name": "python",
   "nbconvert_exporter": "python",
   "pygments_lexer": "ipython3",
   "version": "3.11.5"
  }
 },
 "nbformat": 4,
 "nbformat_minor": 5
}
